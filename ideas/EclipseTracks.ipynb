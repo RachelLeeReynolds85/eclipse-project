{
 "cells": [
  {
   "cell_type": "code",
   "execution_count": 38,
   "metadata": {},
   "outputs": [],
   "source": [
    "import requests\n",
    "import json\n",
    "import pandas as pd\n",
    "from xml.etree import ElementTree\n",
    "import plotly.express as px\n",
    "\n",
    "map_key = \"pk.eyJ1IjoicmFjaGVsbGVlcmV5bm9sZHM4NSIsImEiOiJja2Y5dzAzYnowZDFkMnltcWVsanR2NTc2In0.MQEnMlda0SdG8j8UrqQ3Aw\"\n",
    "px.set_mapbox_access_token(map_key)"
   ]
  },
  {
   "cell_type": "code",
   "execution_count": 7,
   "metadata": {},
   "outputs": [
    {
     "data": {
      "text/html": [
       "<div>\n",
       "<style scoped>\n",
       "    .dataframe tbody tr th:only-of-type {\n",
       "        vertical-align: middle;\n",
       "    }\n",
       "\n",
       "    .dataframe tbody tr th {\n",
       "        vertical-align: top;\n",
       "    }\n",
       "\n",
       "    .dataframe thead th {\n",
       "        text-align: right;\n",
       "    }\n",
       "</style>\n",
       "<table border=\"1\" class=\"dataframe\">\n",
       "  <thead>\n",
       "    <tr style=\"text-align: right;\">\n",
       "      <th></th>\n",
       "      <th>Lat</th>\n",
       "      <th>Lng</th>\n",
       "      <th>Unnamed: 2</th>\n",
       "    </tr>\n",
       "  </thead>\n",
       "  <tbody>\n",
       "    <tr>\n",
       "      <th>0</th>\n",
       "      <td>new GLatLng( 57.61762</td>\n",
       "      <td>170.23211)</td>\n",
       "      <td>NaN</td>\n",
       "    </tr>\n",
       "    <tr>\n",
       "      <th>1</th>\n",
       "      <td>new GLatLng( 57.76882</td>\n",
       "      <td>170.50000)</td>\n",
       "      <td>NaN</td>\n",
       "    </tr>\n",
       "    <tr>\n",
       "      <th>2</th>\n",
       "      <td>new GLatLng( 58.06324</td>\n",
       "      <td>171.00000)</td>\n",
       "      <td>NaN</td>\n",
       "    </tr>\n",
       "    <tr>\n",
       "      <th>3</th>\n",
       "      <td>new GLatLng( 58.37499</td>\n",
       "      <td>171.50000)</td>\n",
       "      <td>NaN</td>\n",
       "    </tr>\n",
       "    <tr>\n",
       "      <th>4</th>\n",
       "      <td>new GLatLng( 58.70622</td>\n",
       "      <td>172.00000)</td>\n",
       "      <td>NaN</td>\n",
       "    </tr>\n",
       "    <tr>\n",
       "      <th>...</th>\n",
       "      <td>...</td>\n",
       "      <td>...</td>\n",
       "      <td>...</td>\n",
       "    </tr>\n",
       "    <tr>\n",
       "      <th>145</th>\n",
       "      <td>new GLatLng( 70.66182</td>\n",
       "      <td>111.00000)</td>\n",
       "      <td>NaN</td>\n",
       "    </tr>\n",
       "    <tr>\n",
       "      <th>146</th>\n",
       "      <td>new GLatLng( 70.12938</td>\n",
       "      <td>110.50000)</td>\n",
       "      <td>NaN</td>\n",
       "    </tr>\n",
       "    <tr>\n",
       "      <th>147</th>\n",
       "      <td>new GLatLng( 69.42061</td>\n",
       "      <td>110.00000)</td>\n",
       "      <td>NaN</td>\n",
       "    </tr>\n",
       "    <tr>\n",
       "      <th>148</th>\n",
       "      <td>new GLatLng( 68.07978</td>\n",
       "      <td>109.50000)</td>\n",
       "      <td>NaN</td>\n",
       "    </tr>\n",
       "    <tr>\n",
       "      <th>149</th>\n",
       "      <td>new GLatLng( 67.32159</td>\n",
       "      <td>109.43704)</td>\n",
       "      <td>NaN</td>\n",
       "    </tr>\n",
       "  </tbody>\n",
       "</table>\n",
       "<p>150 rows × 3 columns</p>\n",
       "</div>"
      ],
      "text/plain": [
       "                       Lat           Lng  Unnamed: 2\n",
       "0    new GLatLng( 57.61762    170.23211)         NaN\n",
       "1    new GLatLng( 57.76882    170.50000)         NaN\n",
       "2    new GLatLng( 58.06324    171.00000)         NaN\n",
       "3    new GLatLng( 58.37499    171.50000)         NaN\n",
       "4    new GLatLng( 58.70622    172.00000)         NaN\n",
       "..                     ...           ...         ...\n",
       "145  new GLatLng( 70.66182    111.00000)         NaN\n",
       "146  new GLatLng( 70.12938    110.50000)         NaN\n",
       "147  new GLatLng( 69.42061    110.00000)         NaN\n",
       "148  new GLatLng( 68.07978    109.50000)         NaN\n",
       "149  new GLatLng( 67.32159    109.43704)         NaN\n",
       "\n",
       "[150 rows x 3 columns]"
      ]
     },
     "execution_count": 7,
     "metadata": {},
     "output_type": "execute_result"
    }
   ],
   "source": [
    "df = pd.read_csv(\"eclipsetrack.csv\")\n",
    "df"
   ]
  },
  {
   "cell_type": "code",
   "execution_count": 31,
   "metadata": {},
   "outputs": [
    {
     "data": {
      "text/plain": [
       "'  170.50000)'"
      ]
     },
     "execution_count": 31,
     "metadata": {},
     "output_type": "execute_result"
    }
   ],
   "source": [
    "test = df.iloc[1, 1]\n",
    "test"
   ]
  },
  {
   "cell_type": "code",
   "execution_count": 32,
   "metadata": {},
   "outputs": [
    {
     "data": {
      "text/plain": [
       "'170.50000'"
      ]
     },
     "execution_count": 32,
     "metadata": {},
     "output_type": "execute_result"
    }
   ],
   "source": [
    "test2 = test[2:-1]\n",
    "test2"
   ]
  },
  {
   "cell_type": "code",
   "execution_count": 30,
   "metadata": {},
   "outputs": [
    {
     "data": {
      "text/plain": [
       "'170.50000'"
      ]
     },
     "execution_count": 30,
     "metadata": {},
     "output_type": "execute_result"
    }
   ],
   "source": [
    "test2[:-1]"
   ]
  },
  {
   "cell_type": "code",
   "execution_count": 41,
   "metadata": {},
   "outputs": [],
   "source": [
    "latitudes = []\n",
    "longitudes = []\n",
    "for i in range(0, len(df)):\n",
    "    lat = df.iloc[i, 0]\n",
    "    lat = lat[13:]\n",
    "    lat = float(lat)\n",
    "    latitudes.append(lat)\n",
    "    lng = df.iloc[i,1]\n",
    "    lng = lng[2:-1]\n",
    "    lng = float(lng)\n",
    "    longitudes.append(lng)"
   ]
  },
  {
   "cell_type": "code",
   "execution_count": 42,
   "metadata": {},
   "outputs": [
    {
     "data": {
      "text/plain": [
       "[57.61762,\n",
       " 57.76882,\n",
       " 58.06324,\n",
       " 58.37499,\n",
       " 58.70622,\n",
       " 59.05959,\n",
       " 59.43855,\n",
       " 59.84767,\n",
       " 60.29331,\n",
       " 60.7847,\n",
       " 61.33631,\n",
       " 61.97324,\n",
       " 62.74751,\n",
       " 63.8148,\n",
       " 67.47346,\n",
       " 68.44152,\n",
       " 69.11912,\n",
       " 69.66191,\n",
       " 70.12186,\n",
       " 70.52406,\n",
       " 70.88294,\n",
       " 71.20771,\n",
       " 71.50469,\n",
       " 71.77843,\n",
       " 72.03235,\n",
       " 72.26909,\n",
       " 72.49076,\n",
       " 72.69904,\n",
       " 72.89534,\n",
       " 73.08082,\n",
       " 73.25645,\n",
       " 73.4231,\n",
       " 73.58146,\n",
       " 73.73219,\n",
       " 73.87582,\n",
       " 74.01285,\n",
       " 74.14371,\n",
       " 74.26878,\n",
       " 74.38841,\n",
       " 74.5029,\n",
       " 74.61254,\n",
       " 74.71758,\n",
       " 74.81825,\n",
       " 74.91476,\n",
       " 75.0073,\n",
       " 75.09606,\n",
       " 75.18118,\n",
       " 75.26283,\n",
       " 75.34114,\n",
       " 75.41623,\n",
       " 75.48823,\n",
       " 75.55724,\n",
       " 75.62336,\n",
       " 75.6867,\n",
       " 75.74733,\n",
       " 75.80534,\n",
       " 75.8608,\n",
       " 75.91379,\n",
       " 75.96438,\n",
       " 76.01261,\n",
       " 76.05855,\n",
       " 76.10226,\n",
       " 76.14378,\n",
       " 76.18317,\n",
       " 76.22045,\n",
       " 76.25568,\n",
       " 76.28888,\n",
       " 76.32011,\n",
       " 76.34937,\n",
       " 76.37672,\n",
       " 76.40217,\n",
       " 76.42574,\n",
       " 76.44747,\n",
       " 76.46737,\n",
       " 76.48545,\n",
       " 76.50174,\n",
       " 76.51626,\n",
       " 76.529,\n",
       " 76.53999,\n",
       " 76.54923,\n",
       " 76.55673,\n",
       " 76.5625,\n",
       " 76.56654,\n",
       " 76.56885,\n",
       " 76.56942,\n",
       " 76.56827,\n",
       " 76.56539,\n",
       " 76.56077,\n",
       " 76.5544,\n",
       " 76.54628,\n",
       " 76.5364,\n",
       " 76.52473,\n",
       " 76.51128,\n",
       " 76.49602,\n",
       " 76.47894,\n",
       " 76.46001,\n",
       " 76.43921,\n",
       " 76.41652,\n",
       " 76.39191,\n",
       " 76.36534,\n",
       " 76.3368,\n",
       " 76.30623,\n",
       " 76.27361,\n",
       " 76.23889,\n",
       " 76.20202,\n",
       " 76.16296,\n",
       " 76.12166,\n",
       " 76.07806,\n",
       " 76.03209,\n",
       " 75.9837,\n",
       " 75.93281,\n",
       " 75.87934,\n",
       " 75.82322,\n",
       " 75.76435,\n",
       " 75.70264,\n",
       " 75.63798,\n",
       " 75.57027,\n",
       " 75.49937,\n",
       " 75.42516,\n",
       " 75.34748,\n",
       " 75.26619,\n",
       " 75.18111,\n",
       " 75.09204,\n",
       " 74.99879,\n",
       " 74.90111,\n",
       " 74.79875,\n",
       " 74.69144,\n",
       " 74.57884,\n",
       " 74.46061,\n",
       " 74.33634,\n",
       " 74.20559,\n",
       " 74.06782,\n",
       " 73.92246,\n",
       " 73.76881,\n",
       " 73.60607,\n",
       " 73.43329,\n",
       " 73.24934,\n",
       " 73.05286,\n",
       " 72.84216,\n",
       " 72.61513,\n",
       " 72.3691,\n",
       " 72.10049,\n",
       " 71.80449,\n",
       " 71.47418,\n",
       " 71.09907,\n",
       " 70.66182,\n",
       " 70.12938,\n",
       " 69.42061,\n",
       " 68.07978,\n",
       " 67.32159]"
      ]
     },
     "execution_count": 42,
     "metadata": {},
     "output_type": "execute_result"
    }
   ],
   "source": [
    "latitudes"
   ]
  },
  {
   "cell_type": "code",
   "execution_count": 43,
   "metadata": {},
   "outputs": [
    {
     "data": {
      "text/plain": [
       "[170.23211,\n",
       " 170.5,\n",
       " 171.0,\n",
       " 171.5,\n",
       " 172.0,\n",
       " 172.5,\n",
       " 173.0,\n",
       " 173.5,\n",
       " 174.0,\n",
       " 174.5,\n",
       " 175.0,\n",
       " 175.5,\n",
       " 176.0,\n",
       " 176.5,\n",
       " 176.5,\n",
       " 176.0,\n",
       " 175.5,\n",
       " 175.0,\n",
       " 174.5,\n",
       " 174.0,\n",
       " 173.5,\n",
       " 173.0,\n",
       " 172.5,\n",
       " 172.0,\n",
       " 171.5,\n",
       " 171.0,\n",
       " 170.5,\n",
       " 170.0,\n",
       " 169.5,\n",
       " 169.0,\n",
       " 168.5,\n",
       " 168.0,\n",
       " 167.5,\n",
       " 167.0,\n",
       " 166.5,\n",
       " 166.0,\n",
       " 165.5,\n",
       " 165.0,\n",
       " 164.5,\n",
       " 164.0,\n",
       " 163.5,\n",
       " 163.0,\n",
       " 162.5,\n",
       " 162.0,\n",
       " 161.5,\n",
       " 161.0,\n",
       " 160.5,\n",
       " 160.0,\n",
       " 159.5,\n",
       " 159.0,\n",
       " 158.5,\n",
       " 158.0,\n",
       " 157.5,\n",
       " 157.0,\n",
       " 156.5,\n",
       " 156.0,\n",
       " 155.5,\n",
       " 155.0,\n",
       " 154.5,\n",
       " 154.0,\n",
       " 153.5,\n",
       " 153.0,\n",
       " 152.5,\n",
       " 152.0,\n",
       " 151.5,\n",
       " 151.0,\n",
       " 150.5,\n",
       " 150.0,\n",
       " 149.5,\n",
       " 149.0,\n",
       " 148.5,\n",
       " 148.0,\n",
       " 147.5,\n",
       " 147.0,\n",
       " 146.5,\n",
       " 146.0,\n",
       " 145.5,\n",
       " 145.0,\n",
       " 144.5,\n",
       " 144.0,\n",
       " 143.5,\n",
       " 143.0,\n",
       " 142.5,\n",
       " 142.0,\n",
       " 141.5,\n",
       " 141.0,\n",
       " 140.5,\n",
       " 140.0,\n",
       " 139.5,\n",
       " 139.0,\n",
       " 138.5,\n",
       " 138.0,\n",
       " 137.5,\n",
       " 137.0,\n",
       " 136.5,\n",
       " 136.0,\n",
       " 135.5,\n",
       " 135.0,\n",
       " 134.5,\n",
       " 134.0,\n",
       " 133.5,\n",
       " 133.0,\n",
       " 132.5,\n",
       " 132.0,\n",
       " 131.5,\n",
       " 131.0,\n",
       " 130.5,\n",
       " 130.0,\n",
       " 129.5,\n",
       " 129.0,\n",
       " 128.5,\n",
       " 128.0,\n",
       " 127.5,\n",
       " 127.0,\n",
       " 126.5,\n",
       " 126.0,\n",
       " 125.5,\n",
       " 125.0,\n",
       " 124.5,\n",
       " 124.0,\n",
       " 123.5,\n",
       " 123.0,\n",
       " 122.5,\n",
       " 122.0,\n",
       " 121.5,\n",
       " 121.0,\n",
       " 120.5,\n",
       " 120.0,\n",
       " 119.5,\n",
       " 119.0,\n",
       " 118.5,\n",
       " 118.0,\n",
       " 117.5,\n",
       " 117.0,\n",
       " 116.5,\n",
       " 116.0,\n",
       " 115.5,\n",
       " 115.0,\n",
       " 114.5,\n",
       " 114.0,\n",
       " 113.5,\n",
       " 113.0,\n",
       " 112.5,\n",
       " 112.0,\n",
       " 111.5,\n",
       " 111.0,\n",
       " 110.5,\n",
       " 110.0,\n",
       " 109.5,\n",
       " 109.43704]"
      ]
     },
     "execution_count": 43,
     "metadata": {},
     "output_type": "execute_result"
    }
   ],
   "source": [
    "longitudes"
   ]
  },
  {
   "cell_type": "code",
   "execution_count": 48,
   "metadata": {},
   "outputs": [
    {
     "data": {
      "application/vnd.plotly.v1+json": {
       "config": {
        "plotlyServerURL": "https://plot.ly"
       },
       "data": [
        {
         "hovertemplate": "lat=%{lat}<br>lon=%{lon}<extra></extra>",
         "lat": [
          57.61762,
          57.76882,
          58.06324,
          58.37499,
          58.70622,
          59.05959,
          59.43855,
          59.84767,
          60.29331,
          60.7847,
          61.33631,
          61.97324,
          62.74751,
          63.8148,
          67.47346,
          68.44152,
          69.11912,
          69.66191,
          70.12186,
          70.52406,
          70.88294,
          71.20771,
          71.50469,
          71.77843,
          72.03235,
          72.26909,
          72.49076,
          72.69904,
          72.89534,
          73.08082,
          73.25645,
          73.4231,
          73.58146,
          73.73219,
          73.87582,
          74.01285,
          74.14371,
          74.26878,
          74.38841,
          74.5029,
          74.61254,
          74.71758,
          74.81825,
          74.91476,
          75.0073,
          75.09606,
          75.18118,
          75.26283,
          75.34114,
          75.41623,
          75.48823,
          75.55724,
          75.62336,
          75.6867,
          75.74733,
          75.80534,
          75.8608,
          75.91379,
          75.96438,
          76.01261,
          76.05855,
          76.10226,
          76.14378,
          76.18317,
          76.22045,
          76.25568,
          76.28888,
          76.32011,
          76.34937,
          76.37672,
          76.40217,
          76.42574,
          76.44747,
          76.46737,
          76.48545,
          76.50174,
          76.51626,
          76.529,
          76.53999,
          76.54923,
          76.55673,
          76.5625,
          76.56654,
          76.56885,
          76.56942,
          76.56827,
          76.56539,
          76.56077,
          76.5544,
          76.54628,
          76.5364,
          76.52473,
          76.51128,
          76.49602,
          76.47894,
          76.46001,
          76.43921,
          76.41652,
          76.39191,
          76.36534,
          76.3368,
          76.30623,
          76.27361,
          76.23889,
          76.20202,
          76.16296,
          76.12166,
          76.07806,
          76.03209,
          75.9837,
          75.93281,
          75.87934,
          75.82322,
          75.76435,
          75.70264,
          75.63798,
          75.57027,
          75.49937,
          75.42516,
          75.34748,
          75.26619,
          75.18111,
          75.09204,
          74.99879,
          74.90111,
          74.79875,
          74.69144,
          74.57884,
          74.46061,
          74.33634,
          74.20559,
          74.06782,
          73.92246,
          73.76881,
          73.60607,
          73.43329,
          73.24934,
          73.05286,
          72.84216,
          72.61513,
          72.3691,
          72.10049,
          71.80449,
          71.47418,
          71.09907,
          70.66182,
          70.12938,
          69.42061,
          68.07978,
          67.32159
         ],
         "legendgroup": "",
         "line": {
          "color": "#636efa"
         },
         "lon": [
          170.23211,
          170.5,
          171,
          171.5,
          172,
          172.5,
          173,
          173.5,
          174,
          174.5,
          175,
          175.5,
          176,
          176.5,
          176.5,
          176,
          175.5,
          175,
          174.5,
          174,
          173.5,
          173,
          172.5,
          172,
          171.5,
          171,
          170.5,
          170,
          169.5,
          169,
          168.5,
          168,
          167.5,
          167,
          166.5,
          166,
          165.5,
          165,
          164.5,
          164,
          163.5,
          163,
          162.5,
          162,
          161.5,
          161,
          160.5,
          160,
          159.5,
          159,
          158.5,
          158,
          157.5,
          157,
          156.5,
          156,
          155.5,
          155,
          154.5,
          154,
          153.5,
          153,
          152.5,
          152,
          151.5,
          151,
          150.5,
          150,
          149.5,
          149,
          148.5,
          148,
          147.5,
          147,
          146.5,
          146,
          145.5,
          145,
          144.5,
          144,
          143.5,
          143,
          142.5,
          142,
          141.5,
          141,
          140.5,
          140,
          139.5,
          139,
          138.5,
          138,
          137.5,
          137,
          136.5,
          136,
          135.5,
          135,
          134.5,
          134,
          133.5,
          133,
          132.5,
          132,
          131.5,
          131,
          130.5,
          130,
          129.5,
          129,
          128.5,
          128,
          127.5,
          127,
          126.5,
          126,
          125.5,
          125,
          124.5,
          124,
          123.5,
          123,
          122.5,
          122,
          121.5,
          121,
          120.5,
          120,
          119.5,
          119,
          118.5,
          118,
          117.5,
          117,
          116.5,
          116,
          115.5,
          115,
          114.5,
          114,
          113.5,
          113,
          112.5,
          112,
          111.5,
          111,
          110.5,
          110,
          109.5,
          109.43704
         ],
         "mode": "lines",
         "name": "",
         "showlegend": false,
         "subplot": "mapbox",
         "type": "scattermapbox"
        }
       ],
       "layout": {
        "legend": {
         "tracegroupgap": 0
        },
        "mapbox": {
         "accesstoken": "pk.eyJ1IjoicmFjaGVsbGVlcmV5bm9sZHM4NSIsImEiOiJja2Y5dzAzYnowZDFkMnltcWVsanR2NTc2In0.MQEnMlda0SdG8j8UrqQ3Aw",
         "center": {
          "lat": 73.24315859999997,
          "lon": 145.60112766666668
         },
         "domain": {
          "x": [
           0,
           1
          ],
          "y": [
           0,
           1
          ]
         },
         "zoom": 1
        },
        "margin": {
         "t": 60
        },
        "template": {
         "data": {
          "bar": [
           {
            "error_x": {
             "color": "#2a3f5f"
            },
            "error_y": {
             "color": "#2a3f5f"
            },
            "marker": {
             "line": {
              "color": "#E5ECF6",
              "width": 0.5
             }
            },
            "type": "bar"
           }
          ],
          "barpolar": [
           {
            "marker": {
             "line": {
              "color": "#E5ECF6",
              "width": 0.5
             }
            },
            "type": "barpolar"
           }
          ],
          "carpet": [
           {
            "aaxis": {
             "endlinecolor": "#2a3f5f",
             "gridcolor": "white",
             "linecolor": "white",
             "minorgridcolor": "white",
             "startlinecolor": "#2a3f5f"
            },
            "baxis": {
             "endlinecolor": "#2a3f5f",
             "gridcolor": "white",
             "linecolor": "white",
             "minorgridcolor": "white",
             "startlinecolor": "#2a3f5f"
            },
            "type": "carpet"
           }
          ],
          "choropleth": [
           {
            "colorbar": {
             "outlinewidth": 0,
             "ticks": ""
            },
            "type": "choropleth"
           }
          ],
          "contour": [
           {
            "colorbar": {
             "outlinewidth": 0,
             "ticks": ""
            },
            "colorscale": [
             [
              0,
              "#0d0887"
             ],
             [
              0.1111111111111111,
              "#46039f"
             ],
             [
              0.2222222222222222,
              "#7201a8"
             ],
             [
              0.3333333333333333,
              "#9c179e"
             ],
             [
              0.4444444444444444,
              "#bd3786"
             ],
             [
              0.5555555555555556,
              "#d8576b"
             ],
             [
              0.6666666666666666,
              "#ed7953"
             ],
             [
              0.7777777777777778,
              "#fb9f3a"
             ],
             [
              0.8888888888888888,
              "#fdca26"
             ],
             [
              1,
              "#f0f921"
             ]
            ],
            "type": "contour"
           }
          ],
          "contourcarpet": [
           {
            "colorbar": {
             "outlinewidth": 0,
             "ticks": ""
            },
            "type": "contourcarpet"
           }
          ],
          "heatmap": [
           {
            "colorbar": {
             "outlinewidth": 0,
             "ticks": ""
            },
            "colorscale": [
             [
              0,
              "#0d0887"
             ],
             [
              0.1111111111111111,
              "#46039f"
             ],
             [
              0.2222222222222222,
              "#7201a8"
             ],
             [
              0.3333333333333333,
              "#9c179e"
             ],
             [
              0.4444444444444444,
              "#bd3786"
             ],
             [
              0.5555555555555556,
              "#d8576b"
             ],
             [
              0.6666666666666666,
              "#ed7953"
             ],
             [
              0.7777777777777778,
              "#fb9f3a"
             ],
             [
              0.8888888888888888,
              "#fdca26"
             ],
             [
              1,
              "#f0f921"
             ]
            ],
            "type": "heatmap"
           }
          ],
          "heatmapgl": [
           {
            "colorbar": {
             "outlinewidth": 0,
             "ticks": ""
            },
            "colorscale": [
             [
              0,
              "#0d0887"
             ],
             [
              0.1111111111111111,
              "#46039f"
             ],
             [
              0.2222222222222222,
              "#7201a8"
             ],
             [
              0.3333333333333333,
              "#9c179e"
             ],
             [
              0.4444444444444444,
              "#bd3786"
             ],
             [
              0.5555555555555556,
              "#d8576b"
             ],
             [
              0.6666666666666666,
              "#ed7953"
             ],
             [
              0.7777777777777778,
              "#fb9f3a"
             ],
             [
              0.8888888888888888,
              "#fdca26"
             ],
             [
              1,
              "#f0f921"
             ]
            ],
            "type": "heatmapgl"
           }
          ],
          "histogram": [
           {
            "marker": {
             "colorbar": {
              "outlinewidth": 0,
              "ticks": ""
             }
            },
            "type": "histogram"
           }
          ],
          "histogram2d": [
           {
            "colorbar": {
             "outlinewidth": 0,
             "ticks": ""
            },
            "colorscale": [
             [
              0,
              "#0d0887"
             ],
             [
              0.1111111111111111,
              "#46039f"
             ],
             [
              0.2222222222222222,
              "#7201a8"
             ],
             [
              0.3333333333333333,
              "#9c179e"
             ],
             [
              0.4444444444444444,
              "#bd3786"
             ],
             [
              0.5555555555555556,
              "#d8576b"
             ],
             [
              0.6666666666666666,
              "#ed7953"
             ],
             [
              0.7777777777777778,
              "#fb9f3a"
             ],
             [
              0.8888888888888888,
              "#fdca26"
             ],
             [
              1,
              "#f0f921"
             ]
            ],
            "type": "histogram2d"
           }
          ],
          "histogram2dcontour": [
           {
            "colorbar": {
             "outlinewidth": 0,
             "ticks": ""
            },
            "colorscale": [
             [
              0,
              "#0d0887"
             ],
             [
              0.1111111111111111,
              "#46039f"
             ],
             [
              0.2222222222222222,
              "#7201a8"
             ],
             [
              0.3333333333333333,
              "#9c179e"
             ],
             [
              0.4444444444444444,
              "#bd3786"
             ],
             [
              0.5555555555555556,
              "#d8576b"
             ],
             [
              0.6666666666666666,
              "#ed7953"
             ],
             [
              0.7777777777777778,
              "#fb9f3a"
             ],
             [
              0.8888888888888888,
              "#fdca26"
             ],
             [
              1,
              "#f0f921"
             ]
            ],
            "type": "histogram2dcontour"
           }
          ],
          "mesh3d": [
           {
            "colorbar": {
             "outlinewidth": 0,
             "ticks": ""
            },
            "type": "mesh3d"
           }
          ],
          "parcoords": [
           {
            "line": {
             "colorbar": {
              "outlinewidth": 0,
              "ticks": ""
             }
            },
            "type": "parcoords"
           }
          ],
          "pie": [
           {
            "automargin": true,
            "type": "pie"
           }
          ],
          "scatter": [
           {
            "marker": {
             "colorbar": {
              "outlinewidth": 0,
              "ticks": ""
             }
            },
            "type": "scatter"
           }
          ],
          "scatter3d": [
           {
            "line": {
             "colorbar": {
              "outlinewidth": 0,
              "ticks": ""
             }
            },
            "marker": {
             "colorbar": {
              "outlinewidth": 0,
              "ticks": ""
             }
            },
            "type": "scatter3d"
           }
          ],
          "scattercarpet": [
           {
            "marker": {
             "colorbar": {
              "outlinewidth": 0,
              "ticks": ""
             }
            },
            "type": "scattercarpet"
           }
          ],
          "scattergeo": [
           {
            "marker": {
             "colorbar": {
              "outlinewidth": 0,
              "ticks": ""
             }
            },
            "type": "scattergeo"
           }
          ],
          "scattergl": [
           {
            "marker": {
             "colorbar": {
              "outlinewidth": 0,
              "ticks": ""
             }
            },
            "type": "scattergl"
           }
          ],
          "scattermapbox": [
           {
            "marker": {
             "colorbar": {
              "outlinewidth": 0,
              "ticks": ""
             }
            },
            "type": "scattermapbox"
           }
          ],
          "scatterpolar": [
           {
            "marker": {
             "colorbar": {
              "outlinewidth": 0,
              "ticks": ""
             }
            },
            "type": "scatterpolar"
           }
          ],
          "scatterpolargl": [
           {
            "marker": {
             "colorbar": {
              "outlinewidth": 0,
              "ticks": ""
             }
            },
            "type": "scatterpolargl"
           }
          ],
          "scatterternary": [
           {
            "marker": {
             "colorbar": {
              "outlinewidth": 0,
              "ticks": ""
             }
            },
            "type": "scatterternary"
           }
          ],
          "surface": [
           {
            "colorbar": {
             "outlinewidth": 0,
             "ticks": ""
            },
            "colorscale": [
             [
              0,
              "#0d0887"
             ],
             [
              0.1111111111111111,
              "#46039f"
             ],
             [
              0.2222222222222222,
              "#7201a8"
             ],
             [
              0.3333333333333333,
              "#9c179e"
             ],
             [
              0.4444444444444444,
              "#bd3786"
             ],
             [
              0.5555555555555556,
              "#d8576b"
             ],
             [
              0.6666666666666666,
              "#ed7953"
             ],
             [
              0.7777777777777778,
              "#fb9f3a"
             ],
             [
              0.8888888888888888,
              "#fdca26"
             ],
             [
              1,
              "#f0f921"
             ]
            ],
            "type": "surface"
           }
          ],
          "table": [
           {
            "cells": {
             "fill": {
              "color": "#EBF0F8"
             },
             "line": {
              "color": "white"
             }
            },
            "header": {
             "fill": {
              "color": "#C8D4E3"
             },
             "line": {
              "color": "white"
             }
            },
            "type": "table"
           }
          ]
         },
         "layout": {
          "annotationdefaults": {
           "arrowcolor": "#2a3f5f",
           "arrowhead": 0,
           "arrowwidth": 1
          },
          "coloraxis": {
           "colorbar": {
            "outlinewidth": 0,
            "ticks": ""
           }
          },
          "colorscale": {
           "diverging": [
            [
             0,
             "#8e0152"
            ],
            [
             0.1,
             "#c51b7d"
            ],
            [
             0.2,
             "#de77ae"
            ],
            [
             0.3,
             "#f1b6da"
            ],
            [
             0.4,
             "#fde0ef"
            ],
            [
             0.5,
             "#f7f7f7"
            ],
            [
             0.6,
             "#e6f5d0"
            ],
            [
             0.7,
             "#b8e186"
            ],
            [
             0.8,
             "#7fbc41"
            ],
            [
             0.9,
             "#4d9221"
            ],
            [
             1,
             "#276419"
            ]
           ],
           "sequential": [
            [
             0,
             "#0d0887"
            ],
            [
             0.1111111111111111,
             "#46039f"
            ],
            [
             0.2222222222222222,
             "#7201a8"
            ],
            [
             0.3333333333333333,
             "#9c179e"
            ],
            [
             0.4444444444444444,
             "#bd3786"
            ],
            [
             0.5555555555555556,
             "#d8576b"
            ],
            [
             0.6666666666666666,
             "#ed7953"
            ],
            [
             0.7777777777777778,
             "#fb9f3a"
            ],
            [
             0.8888888888888888,
             "#fdca26"
            ],
            [
             1,
             "#f0f921"
            ]
           ],
           "sequentialminus": [
            [
             0,
             "#0d0887"
            ],
            [
             0.1111111111111111,
             "#46039f"
            ],
            [
             0.2222222222222222,
             "#7201a8"
            ],
            [
             0.3333333333333333,
             "#9c179e"
            ],
            [
             0.4444444444444444,
             "#bd3786"
            ],
            [
             0.5555555555555556,
             "#d8576b"
            ],
            [
             0.6666666666666666,
             "#ed7953"
            ],
            [
             0.7777777777777778,
             "#fb9f3a"
            ],
            [
             0.8888888888888888,
             "#fdca26"
            ],
            [
             1,
             "#f0f921"
            ]
           ]
          },
          "colorway": [
           "#636efa",
           "#EF553B",
           "#00cc96",
           "#ab63fa",
           "#FFA15A",
           "#19d3f3",
           "#FF6692",
           "#B6E880",
           "#FF97FF",
           "#FECB52"
          ],
          "font": {
           "color": "#2a3f5f"
          },
          "geo": {
           "bgcolor": "white",
           "lakecolor": "white",
           "landcolor": "#E5ECF6",
           "showlakes": true,
           "showland": true,
           "subunitcolor": "white"
          },
          "hoverlabel": {
           "align": "left"
          },
          "hovermode": "closest",
          "mapbox": {
           "style": "light"
          },
          "paper_bgcolor": "white",
          "plot_bgcolor": "#E5ECF6",
          "polar": {
           "angularaxis": {
            "gridcolor": "white",
            "linecolor": "white",
            "ticks": ""
           },
           "bgcolor": "#E5ECF6",
           "radialaxis": {
            "gridcolor": "white",
            "linecolor": "white",
            "ticks": ""
           }
          },
          "scene": {
           "xaxis": {
            "backgroundcolor": "#E5ECF6",
            "gridcolor": "white",
            "gridwidth": 2,
            "linecolor": "white",
            "showbackground": true,
            "ticks": "",
            "zerolinecolor": "white"
           },
           "yaxis": {
            "backgroundcolor": "#E5ECF6",
            "gridcolor": "white",
            "gridwidth": 2,
            "linecolor": "white",
            "showbackground": true,
            "ticks": "",
            "zerolinecolor": "white"
           },
           "zaxis": {
            "backgroundcolor": "#E5ECF6",
            "gridcolor": "white",
            "gridwidth": 2,
            "linecolor": "white",
            "showbackground": true,
            "ticks": "",
            "zerolinecolor": "white"
           }
          },
          "shapedefaults": {
           "line": {
            "color": "#2a3f5f"
           }
          },
          "ternary": {
           "aaxis": {
            "gridcolor": "white",
            "linecolor": "white",
            "ticks": ""
           },
           "baxis": {
            "gridcolor": "white",
            "linecolor": "white",
            "ticks": ""
           },
           "bgcolor": "#E5ECF6",
           "caxis": {
            "gridcolor": "white",
            "linecolor": "white",
            "ticks": ""
           }
          },
          "title": {
           "x": 0.05
          },
          "xaxis": {
           "automargin": true,
           "gridcolor": "white",
           "linecolor": "white",
           "ticks": "",
           "title": {
            "standoff": 15
           },
           "zerolinecolor": "white",
           "zerolinewidth": 2
          },
          "yaxis": {
           "automargin": true,
           "gridcolor": "white",
           "linecolor": "white",
           "ticks": "",
           "title": {
            "standoff": 15
           },
           "zerolinecolor": "white",
           "zerolinewidth": 2
          }
         }
        }
       }
      },
      "text/html": [
       "<div>                            <div id=\"aee3ec1b-b997-48c5-9adf-2387526ed0c5\" class=\"plotly-graph-div\" style=\"height:525px; width:100%;\"></div>            <script type=\"text/javascript\">                require([\"plotly\"], function(Plotly) {                    window.PLOTLYENV=window.PLOTLYENV || {};                                    if (document.getElementById(\"aee3ec1b-b997-48c5-9adf-2387526ed0c5\")) {                    Plotly.newPlot(                        \"aee3ec1b-b997-48c5-9adf-2387526ed0c5\",                        [{\"hovertemplate\": \"lat=%{lat}<br>lon=%{lon}<extra></extra>\", \"lat\": [57.61762, 57.76882, 58.06324, 58.37499, 58.70622, 59.05959, 59.43855, 59.84767, 60.29331, 60.7847, 61.33631, 61.97324, 62.74751, 63.8148, 67.47346, 68.44152, 69.11912, 69.66191, 70.12186, 70.52406, 70.88294, 71.20771, 71.50469, 71.77843, 72.03235, 72.26909, 72.49076, 72.69904, 72.89534, 73.08082, 73.25645, 73.4231, 73.58146, 73.73219, 73.87582, 74.01285, 74.14371, 74.26878, 74.38841, 74.5029, 74.61254, 74.71758, 74.81825, 74.91476, 75.0073, 75.09606, 75.18118, 75.26283, 75.34114, 75.41623, 75.48823, 75.55724, 75.62336, 75.6867, 75.74733, 75.80534, 75.8608, 75.91379, 75.96438, 76.01261, 76.05855, 76.10226, 76.14378, 76.18317, 76.22045, 76.25568, 76.28888, 76.32011, 76.34937, 76.37672, 76.40217, 76.42574, 76.44747, 76.46737, 76.48545, 76.50174, 76.51626, 76.529, 76.53999, 76.54923, 76.55673, 76.5625, 76.56654, 76.56885, 76.56942, 76.56827, 76.56539, 76.56077, 76.5544, 76.54628, 76.5364, 76.52473, 76.51128, 76.49602, 76.47894, 76.46001, 76.43921, 76.41652, 76.39191, 76.36534, 76.3368, 76.30623, 76.27361, 76.23889, 76.20202, 76.16296, 76.12166, 76.07806, 76.03209, 75.9837, 75.93281, 75.87934, 75.82322, 75.76435, 75.70264, 75.63798, 75.57027, 75.49937, 75.42516, 75.34748, 75.26619, 75.18111, 75.09204, 74.99879, 74.90111, 74.79875, 74.69144, 74.57884, 74.46061, 74.33634, 74.20559, 74.06782, 73.92246, 73.76881, 73.60607, 73.43329, 73.24934, 73.05286, 72.84216, 72.61513, 72.3691, 72.10049, 71.80449, 71.47418, 71.09907, 70.66182, 70.12938, 69.42061, 68.07978, 67.32159], \"legendgroup\": \"\", \"line\": {\"color\": \"#636efa\"}, \"lon\": [170.23211, 170.5, 171.0, 171.5, 172.0, 172.5, 173.0, 173.5, 174.0, 174.5, 175.0, 175.5, 176.0, 176.5, 176.5, 176.0, 175.5, 175.0, 174.5, 174.0, 173.5, 173.0, 172.5, 172.0, 171.5, 171.0, 170.5, 170.0, 169.5, 169.0, 168.5, 168.0, 167.5, 167.0, 166.5, 166.0, 165.5, 165.0, 164.5, 164.0, 163.5, 163.0, 162.5, 162.0, 161.5, 161.0, 160.5, 160.0, 159.5, 159.0, 158.5, 158.0, 157.5, 157.0, 156.5, 156.0, 155.5, 155.0, 154.5, 154.0, 153.5, 153.0, 152.5, 152.0, 151.5, 151.0, 150.5, 150.0, 149.5, 149.0, 148.5, 148.0, 147.5, 147.0, 146.5, 146.0, 145.5, 145.0, 144.5, 144.0, 143.5, 143.0, 142.5, 142.0, 141.5, 141.0, 140.5, 140.0, 139.5, 139.0, 138.5, 138.0, 137.5, 137.0, 136.5, 136.0, 135.5, 135.0, 134.5, 134.0, 133.5, 133.0, 132.5, 132.0, 131.5, 131.0, 130.5, 130.0, 129.5, 129.0, 128.5, 128.0, 127.5, 127.0, 126.5, 126.0, 125.5, 125.0, 124.5, 124.0, 123.5, 123.0, 122.5, 122.0, 121.5, 121.0, 120.5, 120.0, 119.5, 119.0, 118.5, 118.0, 117.5, 117.0, 116.5, 116.0, 115.5, 115.0, 114.5, 114.0, 113.5, 113.0, 112.5, 112.0, 111.5, 111.0, 110.5, 110.0, 109.5, 109.43704], \"mode\": \"lines\", \"name\": \"\", \"showlegend\": false, \"subplot\": \"mapbox\", \"type\": \"scattermapbox\"}],                        {\"legend\": {\"tracegroupgap\": 0}, \"mapbox\": {\"accesstoken\": \"pk.eyJ1IjoicmFjaGVsbGVlcmV5bm9sZHM4NSIsImEiOiJja2Y5dzAzYnowZDFkMnltcWVsanR2NTc2In0.MQEnMlda0SdG8j8UrqQ3Aw\", \"center\": {\"lat\": 73.24315859999997, \"lon\": 145.60112766666668}, \"domain\": {\"x\": [0.0, 1.0], \"y\": [0.0, 1.0]}, \"zoom\": 1}, \"margin\": {\"t\": 60}, \"template\": {\"data\": {\"bar\": [{\"error_x\": {\"color\": \"#2a3f5f\"}, \"error_y\": {\"color\": \"#2a3f5f\"}, \"marker\": {\"line\": {\"color\": \"#E5ECF6\", \"width\": 0.5}}, \"type\": \"bar\"}], \"barpolar\": [{\"marker\": {\"line\": {\"color\": \"#E5ECF6\", \"width\": 0.5}}, \"type\": \"barpolar\"}], \"carpet\": [{\"aaxis\": {\"endlinecolor\": \"#2a3f5f\", \"gridcolor\": \"white\", \"linecolor\": \"white\", \"minorgridcolor\": \"white\", \"startlinecolor\": \"#2a3f5f\"}, \"baxis\": {\"endlinecolor\": \"#2a3f5f\", \"gridcolor\": \"white\", \"linecolor\": \"white\", \"minorgridcolor\": \"white\", \"startlinecolor\": \"#2a3f5f\"}, \"type\": \"carpet\"}], \"choropleth\": [{\"colorbar\": {\"outlinewidth\": 0, \"ticks\": \"\"}, \"type\": \"choropleth\"}], \"contour\": [{\"colorbar\": {\"outlinewidth\": 0, \"ticks\": \"\"}, \"colorscale\": [[0.0, \"#0d0887\"], [0.1111111111111111, \"#46039f\"], [0.2222222222222222, \"#7201a8\"], [0.3333333333333333, \"#9c179e\"], [0.4444444444444444, \"#bd3786\"], [0.5555555555555556, \"#d8576b\"], [0.6666666666666666, \"#ed7953\"], [0.7777777777777778, \"#fb9f3a\"], [0.8888888888888888, \"#fdca26\"], [1.0, \"#f0f921\"]], \"type\": \"contour\"}], \"contourcarpet\": [{\"colorbar\": {\"outlinewidth\": 0, \"ticks\": \"\"}, \"type\": \"contourcarpet\"}], \"heatmap\": [{\"colorbar\": {\"outlinewidth\": 0, \"ticks\": \"\"}, \"colorscale\": [[0.0, \"#0d0887\"], [0.1111111111111111, \"#46039f\"], [0.2222222222222222, \"#7201a8\"], [0.3333333333333333, \"#9c179e\"], [0.4444444444444444, \"#bd3786\"], [0.5555555555555556, \"#d8576b\"], [0.6666666666666666, \"#ed7953\"], [0.7777777777777778, \"#fb9f3a\"], [0.8888888888888888, \"#fdca26\"], [1.0, \"#f0f921\"]], \"type\": \"heatmap\"}], \"heatmapgl\": [{\"colorbar\": {\"outlinewidth\": 0, \"ticks\": \"\"}, \"colorscale\": [[0.0, \"#0d0887\"], [0.1111111111111111, \"#46039f\"], [0.2222222222222222, \"#7201a8\"], [0.3333333333333333, \"#9c179e\"], [0.4444444444444444, \"#bd3786\"], [0.5555555555555556, \"#d8576b\"], [0.6666666666666666, \"#ed7953\"], [0.7777777777777778, \"#fb9f3a\"], [0.8888888888888888, \"#fdca26\"], [1.0, \"#f0f921\"]], \"type\": \"heatmapgl\"}], \"histogram\": [{\"marker\": {\"colorbar\": {\"outlinewidth\": 0, \"ticks\": \"\"}}, \"type\": \"histogram\"}], \"histogram2d\": [{\"colorbar\": {\"outlinewidth\": 0, \"ticks\": \"\"}, \"colorscale\": [[0.0, \"#0d0887\"], [0.1111111111111111, \"#46039f\"], [0.2222222222222222, \"#7201a8\"], [0.3333333333333333, \"#9c179e\"], [0.4444444444444444, \"#bd3786\"], [0.5555555555555556, \"#d8576b\"], [0.6666666666666666, \"#ed7953\"], [0.7777777777777778, \"#fb9f3a\"], [0.8888888888888888, \"#fdca26\"], [1.0, \"#f0f921\"]], \"type\": \"histogram2d\"}], \"histogram2dcontour\": [{\"colorbar\": {\"outlinewidth\": 0, \"ticks\": \"\"}, \"colorscale\": [[0.0, \"#0d0887\"], [0.1111111111111111, \"#46039f\"], [0.2222222222222222, \"#7201a8\"], [0.3333333333333333, \"#9c179e\"], [0.4444444444444444, \"#bd3786\"], [0.5555555555555556, \"#d8576b\"], [0.6666666666666666, \"#ed7953\"], [0.7777777777777778, \"#fb9f3a\"], [0.8888888888888888, \"#fdca26\"], [1.0, \"#f0f921\"]], \"type\": \"histogram2dcontour\"}], \"mesh3d\": [{\"colorbar\": {\"outlinewidth\": 0, \"ticks\": \"\"}, \"type\": \"mesh3d\"}], \"parcoords\": [{\"line\": {\"colorbar\": {\"outlinewidth\": 0, \"ticks\": \"\"}}, \"type\": \"parcoords\"}], \"pie\": [{\"automargin\": true, \"type\": \"pie\"}], \"scatter\": [{\"marker\": {\"colorbar\": {\"outlinewidth\": 0, \"ticks\": \"\"}}, \"type\": \"scatter\"}], \"scatter3d\": [{\"line\": {\"colorbar\": {\"outlinewidth\": 0, \"ticks\": \"\"}}, \"marker\": {\"colorbar\": {\"outlinewidth\": 0, \"ticks\": \"\"}}, \"type\": \"scatter3d\"}], \"scattercarpet\": [{\"marker\": {\"colorbar\": {\"outlinewidth\": 0, \"ticks\": \"\"}}, \"type\": \"scattercarpet\"}], \"scattergeo\": [{\"marker\": {\"colorbar\": {\"outlinewidth\": 0, \"ticks\": \"\"}}, \"type\": \"scattergeo\"}], \"scattergl\": [{\"marker\": {\"colorbar\": {\"outlinewidth\": 0, \"ticks\": \"\"}}, \"type\": \"scattergl\"}], \"scattermapbox\": [{\"marker\": {\"colorbar\": {\"outlinewidth\": 0, \"ticks\": \"\"}}, \"type\": \"scattermapbox\"}], \"scatterpolar\": [{\"marker\": {\"colorbar\": {\"outlinewidth\": 0, \"ticks\": \"\"}}, \"type\": \"scatterpolar\"}], \"scatterpolargl\": [{\"marker\": {\"colorbar\": {\"outlinewidth\": 0, \"ticks\": \"\"}}, \"type\": \"scatterpolargl\"}], \"scatterternary\": [{\"marker\": {\"colorbar\": {\"outlinewidth\": 0, \"ticks\": \"\"}}, \"type\": \"scatterternary\"}], \"surface\": [{\"colorbar\": {\"outlinewidth\": 0, \"ticks\": \"\"}, \"colorscale\": [[0.0, \"#0d0887\"], [0.1111111111111111, \"#46039f\"], [0.2222222222222222, \"#7201a8\"], [0.3333333333333333, \"#9c179e\"], [0.4444444444444444, \"#bd3786\"], [0.5555555555555556, \"#d8576b\"], [0.6666666666666666, \"#ed7953\"], [0.7777777777777778, \"#fb9f3a\"], [0.8888888888888888, \"#fdca26\"], [1.0, \"#f0f921\"]], \"type\": \"surface\"}], \"table\": [{\"cells\": {\"fill\": {\"color\": \"#EBF0F8\"}, \"line\": {\"color\": \"white\"}}, \"header\": {\"fill\": {\"color\": \"#C8D4E3\"}, \"line\": {\"color\": \"white\"}}, \"type\": \"table\"}]}, \"layout\": {\"annotationdefaults\": {\"arrowcolor\": \"#2a3f5f\", \"arrowhead\": 0, \"arrowwidth\": 1}, \"coloraxis\": {\"colorbar\": {\"outlinewidth\": 0, \"ticks\": \"\"}}, \"colorscale\": {\"diverging\": [[0, \"#8e0152\"], [0.1, \"#c51b7d\"], [0.2, \"#de77ae\"], [0.3, \"#f1b6da\"], [0.4, \"#fde0ef\"], [0.5, \"#f7f7f7\"], [0.6, \"#e6f5d0\"], [0.7, \"#b8e186\"], [0.8, \"#7fbc41\"], [0.9, \"#4d9221\"], [1, \"#276419\"]], \"sequential\": [[0.0, \"#0d0887\"], [0.1111111111111111, \"#46039f\"], [0.2222222222222222, \"#7201a8\"], [0.3333333333333333, \"#9c179e\"], [0.4444444444444444, \"#bd3786\"], [0.5555555555555556, \"#d8576b\"], [0.6666666666666666, \"#ed7953\"], [0.7777777777777778, \"#fb9f3a\"], [0.8888888888888888, \"#fdca26\"], [1.0, \"#f0f921\"]], \"sequentialminus\": [[0.0, \"#0d0887\"], [0.1111111111111111, \"#46039f\"], [0.2222222222222222, \"#7201a8\"], [0.3333333333333333, \"#9c179e\"], [0.4444444444444444, \"#bd3786\"], [0.5555555555555556, \"#d8576b\"], [0.6666666666666666, \"#ed7953\"], [0.7777777777777778, \"#fb9f3a\"], [0.8888888888888888, \"#fdca26\"], [1.0, \"#f0f921\"]]}, \"colorway\": [\"#636efa\", \"#EF553B\", \"#00cc96\", \"#ab63fa\", \"#FFA15A\", \"#19d3f3\", \"#FF6692\", \"#B6E880\", \"#FF97FF\", \"#FECB52\"], \"font\": {\"color\": \"#2a3f5f\"}, \"geo\": {\"bgcolor\": \"white\", \"lakecolor\": \"white\", \"landcolor\": \"#E5ECF6\", \"showlakes\": true, \"showland\": true, \"subunitcolor\": \"white\"}, \"hoverlabel\": {\"align\": \"left\"}, \"hovermode\": \"closest\", \"mapbox\": {\"style\": \"light\"}, \"paper_bgcolor\": \"white\", \"plot_bgcolor\": \"#E5ECF6\", \"polar\": {\"angularaxis\": {\"gridcolor\": \"white\", \"linecolor\": \"white\", \"ticks\": \"\"}, \"bgcolor\": \"#E5ECF6\", \"radialaxis\": {\"gridcolor\": \"white\", \"linecolor\": \"white\", \"ticks\": \"\"}}, \"scene\": {\"xaxis\": {\"backgroundcolor\": \"#E5ECF6\", \"gridcolor\": \"white\", \"gridwidth\": 2, \"linecolor\": \"white\", \"showbackground\": true, \"ticks\": \"\", \"zerolinecolor\": \"white\"}, \"yaxis\": {\"backgroundcolor\": \"#E5ECF6\", \"gridcolor\": \"white\", \"gridwidth\": 2, \"linecolor\": \"white\", \"showbackground\": true, \"ticks\": \"\", \"zerolinecolor\": \"white\"}, \"zaxis\": {\"backgroundcolor\": \"#E5ECF6\", \"gridcolor\": \"white\", \"gridwidth\": 2, \"linecolor\": \"white\", \"showbackground\": true, \"ticks\": \"\", \"zerolinecolor\": \"white\"}}, \"shapedefaults\": {\"line\": {\"color\": \"#2a3f5f\"}}, \"ternary\": {\"aaxis\": {\"gridcolor\": \"white\", \"linecolor\": \"white\", \"ticks\": \"\"}, \"baxis\": {\"gridcolor\": \"white\", \"linecolor\": \"white\", \"ticks\": \"\"}, \"bgcolor\": \"#E5ECF6\", \"caxis\": {\"gridcolor\": \"white\", \"linecolor\": \"white\", \"ticks\": \"\"}}, \"title\": {\"x\": 0.05}, \"xaxis\": {\"automargin\": true, \"gridcolor\": \"white\", \"linecolor\": \"white\", \"ticks\": \"\", \"title\": {\"standoff\": 15}, \"zerolinecolor\": \"white\", \"zerolinewidth\": 2}, \"yaxis\": {\"automargin\": true, \"gridcolor\": \"white\", \"linecolor\": \"white\", \"ticks\": \"\", \"title\": {\"standoff\": 15}, \"zerolinecolor\": \"white\", \"zerolinewidth\": 2}}}},                        {\"responsive\": true}                    ).then(function(){\n",
       "                            \n",
       "var gd = document.getElementById('aee3ec1b-b997-48c5-9adf-2387526ed0c5');\n",
       "var x = new MutationObserver(function (mutations, observer) {{\n",
       "        var display = window.getComputedStyle(gd).display;\n",
       "        if (!display || display === 'none') {{\n",
       "            console.log([gd, 'removed!']);\n",
       "            Plotly.purge(gd);\n",
       "            observer.disconnect();\n",
       "        }}\n",
       "}});\n",
       "\n",
       "// Listen for the removal of the full notebook cells\n",
       "var notebookContainer = gd.closest('#notebook-container');\n",
       "if (notebookContainer) {{\n",
       "    x.observe(notebookContainer, {childList: true});\n",
       "}}\n",
       "\n",
       "// Listen for the clearing of the current output cell\n",
       "var outputEl = gd.closest('.output');\n",
       "if (outputEl) {{\n",
       "    x.observe(outputEl, {childList: true});\n",
       "}}\n",
       "\n",
       "                        })                };                });            </script>        </div>"
      ]
     },
     "metadata": {},
     "output_type": "display_data"
    }
   ],
   "source": [
    "fig = px.line_mapbox(lat=latitudes, lon=longitudes, zoom=1)\n",
    "fig.show()"
   ]
  },
  {
   "cell_type": "code",
   "execution_count": null,
   "metadata": {},
   "outputs": [],
   "source": []
  },
  {
   "cell_type": "code",
   "execution_count": null,
   "metadata": {},
   "outputs": [],
   "source": []
  },
  {
   "cell_type": "code",
   "execution_count": null,
   "metadata": {},
   "outputs": [],
   "source": []
  },
  {
   "cell_type": "code",
   "execution_count": 16,
   "metadata": {},
   "outputs": [],
   "source": [
    "date = \"18910606\"\n",
    "url = \"https://eclipse.gsfc.nasa.gov/SEsearch/SEsearchmap.php\"\n",
    "r = requests.get(url, params={\"Ecl\": date})"
   ]
  },
  {
   "cell_type": "code",
   "execution_count": 17,
   "metadata": {},
   "outputs": [
    {
     "data": {
      "text/plain": [
       "'https://eclipse.gsfc.nasa.gov/SEsearch/SEsearchmap.php?Ecl=18910606'"
      ]
     },
     "execution_count": 17,
     "metadata": {},
     "output_type": "execute_result"
    }
   ],
   "source": [
    "r.url"
   ]
  },
  {
   "cell_type": "code",
   "execution_count": 18,
   "metadata": {},
   "outputs": [
    {
     "data": {
      "text/plain": [
       "200"
      ]
     },
     "execution_count": 18,
     "metadata": {},
     "output_type": "execute_result"
    }
   ],
   "source": [
    "r.status_code"
   ]
  },
  {
   "cell_type": "code",
   "execution_count": 19,
   "metadata": {},
   "outputs": [
    {
     "ename": "ParseError",
     "evalue": "undefined entity &Delta;: line 853, column 17 (<string>)",
     "output_type": "error",
     "traceback": [
      "Traceback \u001b[1;36m(most recent call last)\u001b[0m:\n",
      "  File \u001b[0;32m\"C:\\Users\\handl\\anaconda3\\lib\\site-packages\\IPython\\core\\interactiveshell.py\"\u001b[0m, line \u001b[0;32m3343\u001b[0m, in \u001b[0;35mrun_code\u001b[0m\n    exec(code_obj, self.user_global_ns, self.user_ns)\n",
      "  File \u001b[0;32m\"<ipython-input-19-3ab911f2efd5>\"\u001b[0m, line \u001b[0;32m1\u001b[0m, in \u001b[0;35m<module>\u001b[0m\n    tree = ElementTree.fromstring(r.content)\n",
      "\u001b[1;36m  File \u001b[1;32m\"C:\\Users\\handl\\anaconda3\\lib\\xml\\etree\\ElementTree.py\"\u001b[1;36m, line \u001b[1;32m1320\u001b[1;36m, in \u001b[1;35mXML\u001b[1;36m\u001b[0m\n\u001b[1;33m    parser.feed(text)\u001b[0m\n",
      "\u001b[1;36m  File \u001b[1;32m\"<string>\"\u001b[1;36m, line \u001b[1;32munknown\u001b[0m\n\u001b[1;31mParseError\u001b[0m\u001b[1;31m:\u001b[0m undefined entity &Delta;: line 853, column 17\n"
     ]
    }
   ],
   "source": [
    "tree = ElementTree.fromstring(r.content)"
   ]
  },
  {
   "cell_type": "code",
   "execution_count": 5,
   "metadata": {},
   "outputs": [
    {
     "ename": "NameError",
     "evalue": "name 'pandas' is not defined",
     "output_type": "error",
     "traceback": [
      "\u001b[1;31m---------------------------------------------------------------------------\u001b[0m",
      "\u001b[1;31mNameError\u001b[0m                                 Traceback (most recent call last)",
      "\u001b[1;32m<ipython-input-5-ee77ce2a7fbb>\u001b[0m in \u001b[0;36m<module>\u001b[1;34m\u001b[0m\n\u001b[1;32m----> 1\u001b[1;33m \u001b[0mdf\u001b[0m \u001b[1;33m=\u001b[0m \u001b[0mpandas\u001b[0m\u001b[1;33m.\u001b[0m\u001b[0mread_csv\u001b[0m\u001b[1;33m(\u001b[0m\u001b[1;34m\"eclipsetrack.csv\"\u001b[0m\u001b[1;33m,\u001b[0m \u001b[0mindex\u001b[0m\u001b[1;33m=\u001b[0m\u001b[1;32mTrue\u001b[0m\u001b[1;33m)\u001b[0m\u001b[1;33m\u001b[0m\u001b[1;33m\u001b[0m\u001b[0m\n\u001b[0m\u001b[0;32m      2\u001b[0m \u001b[0mdf\u001b[0m\u001b[1;33m\u001b[0m\u001b[1;33m\u001b[0m\u001b[0m\n",
      "\u001b[1;31mNameError\u001b[0m: name 'pandas' is not defined"
     ]
    }
   ],
   "source": [
    "df = pandas.read_csv(\"eclipsetrack.csv\", index=True)\n",
    "df"
   ]
  },
  {
   "cell_type": "code",
   "execution_count": null,
   "metadata": {},
   "outputs": [],
   "source": []
  },
  {
   "cell_type": "code",
   "execution_count": null,
   "metadata": {},
   "outputs": [],
   "source": []
  },
  {
   "cell_type": "code",
   "execution_count": null,
   "metadata": {},
   "outputs": [],
   "source": []
  },
  {
   "cell_type": "code",
   "execution_count": null,
   "metadata": {},
   "outputs": [],
   "source": []
  }
 ],
 "metadata": {
  "kernelspec": {
   "display_name": "Python 3",
   "language": "python",
   "name": "python3"
  },
  "language_info": {
   "codemirror_mode": {
    "name": "ipython",
    "version": 3
   },
   "file_extension": ".py",
   "mimetype": "text/x-python",
   "name": "python",
   "nbconvert_exporter": "python",
   "pygments_lexer": "ipython3",
   "version": "3.8.3"
  }
 },
 "nbformat": 4,
 "nbformat_minor": 4
}
